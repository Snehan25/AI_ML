{
 "cells": [
  {
   "cell_type": "markdown",
   "id": "19cd2cdd",
   "metadata": {},
   "source": [
    "**Q1) Program to find the sum of digits of a number until the sum is reduced to 1 digit.**"
   ]
  },
  {
   "cell_type": "code",
   "execution_count": 8,
   "id": "0e2a643b",
   "metadata": {},
   "outputs": [
    {
     "name": "stdout",
     "output_type": "stream",
     "text": [
      "Enter the number: 69\n",
      "15\n",
      "6\n"
     ]
    }
   ],
   "source": [
    "n=int(input(\"Enter the number: \"))\n",
    "flag=1\n",
    "def digit_count(num):\n",
    "    count=0\n",
    "    while(num):\n",
    "        count+=1\n",
    "        num=num//10\n",
    "    return count\n",
    "\n",
    "while (flag!=0):\n",
    "    sum1=0\n",
    "    while n!=0:\n",
    "        sum1+=n%10\n",
    "        n=n//10\n",
    "    print(sum1)\n",
    "    if n==0 and digit_count(sum1)==1:\n",
    "        break\n",
    "    else:\n",
    "        flag=1\n",
    "        n=sum1"
   ]
  },
  {
   "cell_type": "markdown",
   "id": "0e0ee82e",
   "metadata": {},
   "source": [
    "**Q2) Program to find LCM and HCF of two numbers.**"
   ]
  },
  {
   "cell_type": "code",
   "execution_count": 9,
   "id": "e17f3142",
   "metadata": {},
   "outputs": [
    {
     "name": "stdout",
     "output_type": "stream",
     "text": [
      "Enter the first number: 12\n",
      "Enter the second number: 8\n",
      "The LCM of 12 and 8 is 24\n",
      "The HCF of 12 and 8 is 4\n"
     ]
    }
   ],
   "source": [
    "def calculate_lcm(num1, num2):\n",
    "    greater = max(num1, num2)\n",
    "    while True:\n",
    "        if greater % num1 == 0 and greater % num2 == 0:\n",
    "            lcm = greater\n",
    "            break\n",
    "        greater += 1\n",
    "    return lcm\n",
    "\n",
    "def calculate_hcf(num1, num2):\n",
    "    while num2 != 0:\n",
    "        num1, num2 = num2, num1 % num2\n",
    "    return num1\n",
    "\n",
    "# Example usage\n",
    "number1 = int(input(\"Enter the first number: \"))\n",
    "number2 = int(input(\"Enter the second number: \"))\n",
    "\n",
    "lcm = calculate_lcm(number1, number2)\n",
    "hcf = calculate_hcf(number1, number2)\n",
    "\n",
    "print(\"The LCM of\", number1, \"and\", number2, \"is\", lcm)\n",
    "print(\"The HCF of\", number1, \"and\", number2, \"is\", hcf)"
   ]
  },
  {
   "cell_type": "markdown",
   "id": "e5053b63",
   "metadata": {},
   "source": [
    "**Q3) Write a program to accept any number n and print the cube of all numbers from 1 to n which are divisible by 3. Rewrite the program using a continue statement.**"
   ]
  },
  {
   "cell_type": "code",
   "execution_count": 12,
   "id": "8ef8f019",
   "metadata": {},
   "outputs": [
    {
     "name": "stdout",
     "output_type": "stream",
     "text": [
      "Enter the number: 15\n",
      "27 216 729 1728 \n"
     ]
    }
   ],
   "source": [
    "n=int(input(\"Enter the number: \"))\n",
    "\n",
    "def cube(num):\n",
    "    return num*num*num\n",
    "\n",
    "for i in range(1, n):\n",
    "    if cube(i)%3==0:\n",
    "        print(cube(i), end=\" \")\n",
    "print(\"\")"
   ]
  },
  {
   "cell_type": "code",
   "execution_count": 1,
   "id": "daf96e3f",
   "metadata": {},
   "outputs": [
    {
     "name": "stdout",
     "output_type": "stream",
     "text": [
      "Enter the number: 45\n",
      "27 216 729 1728 3375 5832 9261 13824 19683 27000 35937 46656 59319 74088 \n"
     ]
    }
   ],
   "source": [
    "n=int(input(\"Enter the number: \"))\n",
    "\n",
    "def cube(num):\n",
    "    return num*num*num\n",
    "\n",
    "for i in range(1, n):\n",
    "    if cube(i)%3!=0:\n",
    "        continue\n",
    "    else:\n",
    "        print(cube(i), end=\" \")\n",
    "print(\"\")"
   ]
  },
  {
   "cell_type": "markdown",
   "id": "793f1b11",
   "metadata": {},
   "source": [
    "**Q5) Write a program to input a number and count the digits in it. Use while loop and the program should work correctly for 0 also.**"
   ]
  },
  {
   "cell_type": "code",
   "execution_count": 5,
   "id": "840a039c",
   "metadata": {},
   "outputs": [
    {
     "name": "stdout",
     "output_type": "stream",
     "text": [
      "Enter the number: 45\n",
      "Number of digits: 2\n"
     ]
    }
   ],
   "source": [
    "n=int(input(\"Enter the number: \"))\n",
    "count=0\n",
    "if (n==0):\n",
    "    count=1\n",
    "while (n!=0):\n",
    "    count+=1\n",
    "    n=n//10\n",
    "print(f\"Number of digits: {count}\")"
   ]
  },
  {
   "cell_type": "markdown",
   "id": "54019192",
   "metadata": {},
   "source": [
    "**Q6) Write a program to enter a number and find the reverse of that number. Also display the double of the reverse number. (don’t use string magic).**"
   ]
  },
  {
   "cell_type": "code",
   "execution_count": 10,
   "id": "5bada907",
   "metadata": {},
   "outputs": [
    {
     "name": "stdout",
     "output_type": "stream",
     "text": [
      "Enter the number: 456\n",
      "The reverse of the number is:  654\n",
      "The double of the reverse of the number is:  1308\n"
     ]
    }
   ],
   "source": [
    "n=int(input(\"Enter the number: \"))\n",
    "reverse=0\n",
    "while (n!=0):\n",
    "    reverse=(reverse*10)+n%10\n",
    "    n=n//10\n",
    "print(\"The reverse of the number is: \",reverse)\n",
    "print(\"The double of the reverse of the number is: \", reverse*2)"
   ]
  }
 ],
 "metadata": {
  "kernelspec": {
   "display_name": "Python 3",
   "language": "python",
   "name": "python3"
  },
  "language_info": {
   "codemirror_mode": {
    "name": "ipython",
    "version": 3
   },
   "file_extension": ".py",
   "mimetype": "text/x-python",
   "name": "python",
   "nbconvert_exporter": "python",
   "pygments_lexer": "ipython3",
   "version": "3.8.8"
  }
 },
 "nbformat": 4,
 "nbformat_minor": 5
}
