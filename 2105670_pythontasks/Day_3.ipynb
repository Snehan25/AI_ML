{
 "cells": [
  {
   "cell_type": "markdown",
   "id": "ce5e73ea",
   "metadata": {},
   "source": [
    "**Q1) What are Data Structures? List some of data structures and their use in real world application?**\n",
    "\n",
    "Data Structures are a way to store, retrieve, and manipulate/rearrange data in an efficient way so that it becomes easy to refer to a set of data easily.\n",
    "\n",
    "* Set\n",
    "* Lists\n",
    "* Dictionary\n",
    "* Tuples\n",
    "* Frozenset\n",
    "* int\n",
    "* float\n",
    "* String"
   ]
  },
  {
   "cell_type": "markdown",
   "id": "dac605a8",
   "metadata": {},
   "source": [
    "**Q3) Create a list data type and store names of your friends in it (at least 5), check out what are methods available in list data type, try to figure out their working using help function in python.**"
   ]
  },
  {
   "cell_type": "code",
   "execution_count": 2,
   "id": "b4081f29",
   "metadata": {},
   "outputs": [],
   "source": [
    "list1 = [\"Sudip Chanda\", \"Vivek Srivastava\", \"Sambuddha Chatterjee\", \"Sahil Singh Rajput\", \"Shrubronil Mukherjee\"]"
   ]
  },
  {
   "cell_type": "code",
   "execution_count": 2,
   "id": "18594f29",
   "metadata": {},
   "outputs": [
    {
     "name": "stdout",
     "output_type": "stream",
     "text": [
      "Help on class list in module builtins:\n",
      "\n",
      "class list(object)\n",
      " |  list(iterable=(), /)\n",
      " |  \n",
      " |  Built-in mutable sequence.\n",
      " |  \n",
      " |  If no argument is given, the constructor creates a new empty list.\n",
      " |  The argument must be an iterable if specified.\n",
      " |  \n",
      " |  Methods defined here:\n",
      " |  \n",
      " |  __add__(self, value, /)\n",
      " |      Return self+value.\n",
      " |  \n",
      " |  __contains__(self, key, /)\n",
      " |      Return key in self.\n",
      " |  \n",
      " |  __delitem__(self, key, /)\n",
      " |      Delete self[key].\n",
      " |  \n",
      " |  __eq__(self, value, /)\n",
      " |      Return self==value.\n",
      " |  \n",
      " |  __ge__(self, value, /)\n",
      " |      Return self>=value.\n",
      " |  \n",
      " |  __getattribute__(self, name, /)\n",
      " |      Return getattr(self, name).\n",
      " |  \n",
      " |  __getitem__(...)\n",
      " |      x.__getitem__(y) <==> x[y]\n",
      " |  \n",
      " |  __gt__(self, value, /)\n",
      " |      Return self>value.\n",
      " |  \n",
      " |  __iadd__(self, value, /)\n",
      " |      Implement self+=value.\n",
      " |  \n",
      " |  __imul__(self, value, /)\n",
      " |      Implement self*=value.\n",
      " |  \n",
      " |  __init__(self, /, *args, **kwargs)\n",
      " |      Initialize self.  See help(type(self)) for accurate signature.\n",
      " |  \n",
      " |  __iter__(self, /)\n",
      " |      Implement iter(self).\n",
      " |  \n",
      " |  __le__(self, value, /)\n",
      " |      Return self<=value.\n",
      " |  \n",
      " |  __len__(self, /)\n",
      " |      Return len(self).\n",
      " |  \n",
      " |  __lt__(self, value, /)\n",
      " |      Return self<value.\n",
      " |  \n",
      " |  __mul__(self, value, /)\n",
      " |      Return self*value.\n",
      " |  \n",
      " |  __ne__(self, value, /)\n",
      " |      Return self!=value.\n",
      " |  \n",
      " |  __repr__(self, /)\n",
      " |      Return repr(self).\n",
      " |  \n",
      " |  __reversed__(self, /)\n",
      " |      Return a reverse iterator over the list.\n",
      " |  \n",
      " |  __rmul__(self, value, /)\n",
      " |      Return value*self.\n",
      " |  \n",
      " |  __setitem__(self, key, value, /)\n",
      " |      Set self[key] to value.\n",
      " |  \n",
      " |  __sizeof__(self, /)\n",
      " |      Return the size of the list in memory, in bytes.\n",
      " |  \n",
      " |  append(self, object, /)\n",
      " |      Append object to the end of the list.\n",
      " |  \n",
      " |  clear(self, /)\n",
      " |      Remove all items from list.\n",
      " |  \n",
      " |  copy(self, /)\n",
      " |      Return a shallow copy of the list.\n",
      " |  \n",
      " |  count(self, value, /)\n",
      " |      Return number of occurrences of value.\n",
      " |  \n",
      " |  extend(self, iterable, /)\n",
      " |      Extend list by appending elements from the iterable.\n",
      " |  \n",
      " |  index(self, value, start=0, stop=9223372036854775807, /)\n",
      " |      Return first index of value.\n",
      " |      \n",
      " |      Raises ValueError if the value is not present.\n",
      " |  \n",
      " |  insert(self, index, object, /)\n",
      " |      Insert object before index.\n",
      " |  \n",
      " |  pop(self, index=-1, /)\n",
      " |      Remove and return item at index (default last).\n",
      " |      \n",
      " |      Raises IndexError if list is empty or index is out of range.\n",
      " |  \n",
      " |  remove(self, value, /)\n",
      " |      Remove first occurrence of value.\n",
      " |      \n",
      " |      Raises ValueError if the value is not present.\n",
      " |  \n",
      " |  reverse(self, /)\n",
      " |      Reverse *IN PLACE*.\n",
      " |  \n",
      " |  sort(self, /, *, key=None, reverse=False)\n",
      " |      Sort the list in ascending order and return None.\n",
      " |      \n",
      " |      The sort is in-place (i.e. the list itself is modified) and stable (i.e. the\n",
      " |      order of two equal elements is maintained).\n",
      " |      \n",
      " |      If a key function is given, apply it once to each list item and sort them,\n",
      " |      ascending or descending, according to their function values.\n",
      " |      \n",
      " |      The reverse flag can be set to sort in descending order.\n",
      " |  \n",
      " |  ----------------------------------------------------------------------\n",
      " |  Static methods defined here:\n",
      " |  \n",
      " |  __new__(*args, **kwargs) from builtins.type\n",
      " |      Create and return a new object.  See help(type) for accurate signature.\n",
      " |  \n",
      " |  ----------------------------------------------------------------------\n",
      " |  Data and other attributes defined here:\n",
      " |  \n",
      " |  __hash__ = None\n",
      "\n"
     ]
    }
   ],
   "source": [
    "help(list)"
   ]
  },
  {
   "cell_type": "code",
   "execution_count": 7,
   "id": "15923b5c",
   "metadata": {},
   "outputs": [
    {
     "name": "stdout",
     "output_type": "stream",
     "text": [
      "['Sudip Chanda', 'Vivek Srivastava', 'Sambuddha Chatterjee', 'Sahil Singh Rajput', 'Shrubronil Mukherjee']\n"
     ]
    }
   ],
   "source": [
    "list2 = list1.copy()\n",
    "print(list2)"
   ]
  },
  {
   "cell_type": "code",
   "execution_count": 14,
   "id": "cf7d5bfb",
   "metadata": {},
   "outputs": [
    {
     "name": "stdout",
     "output_type": "stream",
     "text": [
      "['Shrubronil Mukherjee', 'Sudip Chanda', 'Sahil Singh Rajput', 'Sambuddha Chatterjee', 'Vivek Srivastava']\n"
     ]
    }
   ],
   "source": [
    "print(list1)"
   ]
  },
  {
   "cell_type": "code",
   "execution_count": 16,
   "id": "a24b5fa1",
   "metadata": {},
   "outputs": [
    {
     "name": "stdout",
     "output_type": "stream",
     "text": [
      "['Shrubronil Mukherjee', 'Sudip Chanda', 'Sudip Chanda', 'Sudip Chanda', 'Sahil Singh Rajput', 'Sambuddha Chatterjee', 'Vivek Srivastava']\n"
     ]
    }
   ],
   "source": [
    "list1.insert(1, \"Sudip Chanda\")\n",
    "print(list1)"
   ]
  },
  {
   "cell_type": "code",
   "execution_count": 24,
   "id": "30bf4394",
   "metadata": {},
   "outputs": [
    {
     "name": "stdout",
     "output_type": "stream",
     "text": [
      "['Sudip Chanda', 'Shrubronil Mukherjee', 'Sahil Singh Rajput', 'Sambuddha Chatterjee', 'Vivek Srivastava']\n"
     ]
    }
   ],
   "source": [
    "list1.insert(0, \"Sudip Chanda\")\n",
    "print(list1)"
   ]
  },
  {
   "cell_type": "code",
   "execution_count": 25,
   "id": "55aaec8b",
   "metadata": {},
   "outputs": [
    {
     "name": "stdout",
     "output_type": "stream",
     "text": [
      "Vivek Srivastava\n"
     ]
    }
   ],
   "source": [
    "print(list1.pop())"
   ]
  },
  {
   "cell_type": "code",
   "execution_count": 26,
   "id": "54c5c061",
   "metadata": {},
   "outputs": [
    {
     "name": "stdout",
     "output_type": "stream",
     "text": [
      "['Sudip Chanda', 'Shrubronil Mukherjee', 'Sahil Singh Rajput', 'Sambuddha Chatterjee']\n"
     ]
    }
   ],
   "source": [
    "print(list1)"
   ]
  },
  {
   "cell_type": "markdown",
   "id": "cdae39bd",
   "metadata": {},
   "source": [
    "**Q4) What is difference between ordered data type and unordered data type?**\n",
    "\n",
    "Ordered datatype means that the elements of the datatype have a particular order and the elements should be inserted in that order only for a desired output. Ordered datatypes can be sorted and have inbuilt functions to sort them. Eg.: Lists in Python.\n",
    "\n",
    "Unordered datatype means that the elements of the datatype can be inserted in any order. Eg.: Dictionary"
   ]
  },
  {
   "cell_type": "markdown",
   "id": "8f575709",
   "metadata": {},
   "source": [
    "**Q5) Write down types of each value given? (In python)** \n",
    "\n",
    "* 100 -> `int` \n",
    "\n",
    "* 105.5 -> `float`\n",
    "\n",
    "* 192.56j -> `complex`\n",
    "\n",
    "* 10+6j -> `complex`\n",
    "\n",
    "* ‘10’ -> `str`\n",
    "\n",
    "* ‘Hello world’ -> `str`\n",
    "\n",
    "* [10, 20, 50, 100] -> `list`\n",
    "\n",
    "* {‘name’: ‘sachin’, ‘age’: 24, ‘language’: ‘python’} -> `Dictionary`"
   ]
  }
 ],
 "metadata": {
  "kernelspec": {
   "display_name": "Python 3",
   "language": "python",
   "name": "python3"
  },
  "language_info": {
   "codemirror_mode": {
    "name": "ipython",
    "version": 3
   },
   "file_extension": ".py",
   "mimetype": "text/x-python",
   "name": "python",
   "nbconvert_exporter": "python",
   "pygments_lexer": "ipython3",
   "version": "3.8.8"
  }
 },
 "nbformat": 4,
 "nbformat_minor": 5
}
