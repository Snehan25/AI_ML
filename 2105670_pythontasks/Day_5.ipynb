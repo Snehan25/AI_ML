{
 "cells": [
  {
   "cell_type": "markdown",
   "id": "3b733cc8",
   "metadata": {},
   "source": [
    "**Q1) What is difference between shallow copy and deep copy?**"
   ]
  },
  {
   "cell_type": "markdown",
   "id": "98aca79d",
   "metadata": {},
   "source": [
    "Shadow Copy is basically the copying of addresses or creation of new pointer variables pointing to the same address. Therefore, there may exist 2 variables pointing to the same data values. In this type of copying, the original values are not cloned and only the number of identifiers via which the data can be accessed increases.\n",
    "\n",
    "Deep copy is referred to the literal cloning of the data stored in a variable such that the addresses of both the identifiers pointing to the original datatype and the duplicate datatype respectively, are different, and, changes in one of the variables cannot be reflected in the other variable."
   ]
  },
  {
   "cell_type": "markdown",
   "id": "b762e10c",
   "metadata": {},
   "source": [
    "**Q2) You want to create a library management application, you need to store data about books, students in your program, how will you store data inside python using list? Create some lists with fake data to store information about library management.**"
   ]
  },
  {
   "cell_type": "markdown",
   "id": "2c5b1c4b",
   "metadata": {},
   "source": [
    "* For storing data for students, the schema is as follows: \n",
    "\n",
    "    Id, Name, Mobile_No, Book Id.\n",
    "    \n",
    "    \n",
    "* For storing Data of the Books available in the library:\n",
    "\n",
    "    Book_id, Name, author_name, Student_id as Id"
   ]
  },
  {
   "cell_type": "code",
   "execution_count": 3,
   "id": "6a62e01c",
   "metadata": {},
   "outputs": [],
   "source": [
    "std = [\n",
    "    [1, 'Karthik', '0000000000', '1002'],\n",
    "    [2, 'Vivek', '1111111111', '1001'],\n",
    "    [3, 'Sudip', '2222222222', '']\n",
    "]\n",
    "books = [\n",
    "    [1001, 'King Arthur', 'Geoffrey of Monmouth', '2'],\n",
    "    [1002, 'An Introduction to Python Tutorial and What’s New - Version 3.11', 'Guido Van Rossum', '1']\n",
    "]"
   ]
  },
  {
   "cell_type": "code",
   "execution_count": 4,
   "id": "663b36ef",
   "metadata": {},
   "outputs": [
    {
     "name": "stdout",
     "output_type": "stream",
     "text": [
      "[[1, 'Karthik', '0000000000', '1002'],\n",
      " [2, 'Vivek', '1111111111', '1001'],\n",
      " [3, 'Sudip', '2222222222', '']]\n",
      "[[1001, 'King Arthur', 'Geoffrey of Monmouth', '2'],\n",
      " [1002,\n",
      "  'An Introduction to Python Tutorial and What’s New - Version 3.11',\n",
      "  'Guido Van Rossum',\n",
      "  '1']]\n"
     ]
    }
   ],
   "source": [
    "from pprint import pprint\n",
    "pprint(std)\n",
    "pprint(books)"
   ]
  },
  {
   "cell_type": "markdown",
   "id": "bd5add2d",
   "metadata": {},
   "source": [
    "**Q3) This chapter introduced assignment statements, like spam = 10. What is the difference between an expression and a statement?** "
   ]
  },
  {
   "cell_type": "markdown",
   "id": "4a1e6478",
   "metadata": {},
   "source": [
    "An expression is a sequence of values, variables, operators and function calls that always returns a result value.\n",
    "\n",
    "Statement is an instruction that can be executed or is carried out."
   ]
  },
  {
   "cell_type": "markdown",
   "id": "1c4df534",
   "metadata": {},
   "source": [
    "**Q3) i)Define Atomic data types / Primary data types:** "
   ]
  },
  {
   "cell_type": "markdown",
   "id": "ad3a8355",
   "metadata": {},
   "source": [
    "Atomic datatypes are datatypes which cannot be broken down further into sub-datatypes. There are majorly 4 primitive datatypes:\n",
    "\n",
    "* Integers\n",
    "* Float\n",
    "* Boolean\n",
    "* Characters"
   ]
  },
  {
   "cell_type": "markdown",
   "id": "c9991371",
   "metadata": {},
   "source": [
    "**ii) Secondary data type / User Defined Data Type:**"
   ]
  },
  {
   "cell_type": "markdown",
   "id": "d879741a",
   "metadata": {},
   "source": [
    "Secondary datatypes are those datatypes which can be divided into sub-datatypes. In other words, these datatypes are created by a combination of primitive datatypes."
   ]
  },
  {
   "cell_type": "markdown",
   "id": "34934d59",
   "metadata": {},
   "source": [
    "**Q4) What is UDF?**"
   ]
  },
  {
   "cell_type": "markdown",
   "id": "e008f9fe",
   "metadata": {},
   "source": [
    "UDF refers to User-Defined_Functions. UDFs can consist of code created by the programmer along with function calls to the built-in functions to perform/fulfill a particular recurring requirement providing flexibility and code reusability."
   ]
  }
 ],
 "metadata": {
  "kernelspec": {
   "display_name": "Python 3",
   "language": "python",
   "name": "python3"
  },
  "language_info": {
   "codemirror_mode": {
    "name": "ipython",
    "version": 3
   },
   "file_extension": ".py",
   "mimetype": "text/x-python",
   "name": "python",
   "nbconvert_exporter": "python",
   "pygments_lexer": "ipython3",
   "version": "3.8.8"
  }
 },
 "nbformat": 4,
 "nbformat_minor": 5
}
