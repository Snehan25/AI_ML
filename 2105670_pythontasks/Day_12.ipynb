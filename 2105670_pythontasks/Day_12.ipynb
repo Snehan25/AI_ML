{
 "cells": [
  {
   "cell_type": "markdown",
   "id": "6ef8171b",
   "metadata": {},
   "source": [
    "**Q1) Write a code to implement Guess Game Guess Game**\n",
    "\n",
    "* Constraints / Rules \n",
    "\n",
    "you have 5 chance to guess correct number which is choosen by computer / friend \n",
    "\n",
    "Range which is allowed to select a number 1-50 \n",
    "\n",
    "After each guess you should give some tips / hints to user to improve their chance of winning \n",
    "\n",
    "for example if user guess a number which is higher than actual number you should say `hint: think a low number! \n",
    "\n",
    "if user guess a number which is lower than actual number you should say `hint: think a big number!`\n",
    "\n",
    "      if user wins we will show a congrats messege and stop our game \n",
    "\n",
    "      if any time user guess is out of limit than print a warning message saying Think in Limits 1-50 only! \n",
    "\n",
    "      but we do not count this as a chance"
   ]
  },
  {
   "cell_type": "code",
   "execution_count": 9,
   "id": "095e85bd",
   "metadata": {},
   "outputs": [
    {
     "name": "stdout",
     "output_type": "stream",
     "text": [
      "Guess the number: 25\n",
      "Incorrect Guess. 4 guesses remain.\n",
      "(Hint: The chosen value by computer is lesser than the guessed value.)\n",
      "Guess the number: 12\n",
      "Incorrect Guess. 3 guesses remain.\n",
      "(Hint: The chosen value by computer is greater than the guessed value.)\n",
      "Guess the number: 20\n",
      "Incorrect Guess. 2 guesses remain.\n",
      "(Hint: The chosen value by computer is greater than the guessed value.)\n",
      "Guess the number: 23\n",
      "Incorrect Guess. 1 guesses remain.\n",
      "(Hint: The chosen value by computer is lesser than the guessed value.)\n",
      "Guess the number: 22\n",
      "The Number chosen by computer was 21\n",
      "Incorrect Guess. 0 guesses remain.\n",
      "Game Over!!! Computer Wins!!!\n"
     ]
    }
   ],
   "source": [
    "import random\n",
    "\n",
    "chance=5\n",
    "choice=random.randrange(1, 50, 1)\n",
    "if choice>=1 and choice<=50:\n",
    "    while chance!=0:\n",
    "        guess=int(input(\"Guess the number: \"))\n",
    "        if guess>50 or guess<1:\n",
    "            print(\"The range of numbers is 1 to 50 only. Think in the specified limits only.\")\n",
    "            continue\n",
    "        if guess==choice:\n",
    "            print(f\"Congrats. Correctly Guessed!!! The number chosen by computer was {guess}.\")\n",
    "            print(\"Game Over!!! User Wins!!!\")\n",
    "            break\n",
    "        else:\n",
    "            chance-=1\n",
    "            if (chance==0):\n",
    "                print(f\"The Number chosen by computer was {choice}\")\n",
    "                print(f\"Incorrect Guess. {chance} guesses remain.\")\n",
    "                print(\"Game Over!!! Computer Wins!!!\")\n",
    "            else:\n",
    "                print(f\"Incorrect Guess. {chance} guesses remain.\")\n",
    "                if (guess>choice):\n",
    "                    print(\"(Hint: The chosen value by computer is lesser than the guessed value.)\")\n",
    "                else:\n",
    "                    print(\"(Hint: The chosen value by computer is greater than the guessed value.)\")\n",
    "else:\n",
    "    print(\"The number chosen by the system is not in the given range (1-50)\")"
   ]
  },
  {
   "cell_type": "code",
   "execution_count": null,
   "id": "dd4fbb04",
   "metadata": {},
   "outputs": [],
   "source": []
  }
 ],
 "metadata": {
  "kernelspec": {
   "display_name": "Python 3",
   "language": "python",
   "name": "python3"
  },
  "language_info": {
   "codemirror_mode": {
    "name": "ipython",
    "version": 3
   },
   "file_extension": ".py",
   "mimetype": "text/x-python",
   "name": "python",
   "nbconvert_exporter": "python",
   "pygments_lexer": "ipython3",
   "version": "3.8.8"
  }
 },
 "nbformat": 4,
 "nbformat_minor": 5
}
