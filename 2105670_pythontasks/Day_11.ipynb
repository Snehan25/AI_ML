{
 "cells": [
  {
   "cell_type": "markdown",
   "id": "2285e685",
   "metadata": {},
   "source": [
    "# Q1 Patterns:"
   ]
  },
  {
   "cell_type": "code",
   "execution_count": 5,
   "id": "717e8565",
   "metadata": {},
   "outputs": [
    {
     "name": "stdout",
     "output_type": "stream",
     "text": [
      "*\n",
      "**\n",
      "***\n",
      "****\n",
      "*****\n"
     ]
    }
   ],
   "source": [
    "for i in range(1,6):\n",
    "    print(\"*\"*i)"
   ]
  },
  {
   "cell_type": "code",
   "execution_count": 8,
   "id": "227acae0",
   "metadata": {},
   "outputs": [
    {
     "name": "stdout",
     "output_type": "stream",
     "text": [
      "1\n",
      "22\n",
      "333\n",
      "4444\n",
      "55555\n"
     ]
    }
   ],
   "source": [
    "for i in range(1,6):\n",
    "    print(f\"{i}\"*i)"
   ]
  },
  {
   "cell_type": "code",
   "execution_count": 21,
   "id": "d7fb3648",
   "metadata": {},
   "outputs": [
    {
     "name": "stdout",
     "output_type": "stream",
     "text": [
      "1\n",
      "12\n",
      "123\n",
      "1234\n",
      "12345\n"
     ]
    }
   ],
   "source": [
    "for i in range(1,6):\n",
    "    for j in range(1,i+1):\n",
    "        print(f\"{j}\", end = \"\")\n",
    "    print(\"\")"
   ]
  },
  {
   "cell_type": "code",
   "execution_count": 8,
   "id": "63ff5708",
   "metadata": {},
   "outputs": [
    {
     "name": "stdout",
     "output_type": "stream",
     "text": [
      "2 \n",
      "3 4 \n",
      "4 5 6 \n",
      "5 6 7 8 \n",
      "6 7 8 9 10 \n"
     ]
    }
   ],
   "source": [
    "k=2\n",
    "x=0\n",
    "flag=0\n",
    "for i in range(1,6):\n",
    "    for j in range(1,i+1):\n",
    "        print(f\"{k} \", end = \"\")\n",
    "        if (i!=1 and j==2):\n",
    "            x=k\n",
    "            flag=1\n",
    "        k+=1\n",
    "    if flag==1:\n",
    "        k=x\n",
    "    print(\"\")"
   ]
  },
  {
   "cell_type": "code",
   "execution_count": 10,
   "id": "997d4fd4",
   "metadata": {},
   "outputs": [
    {
     "name": "stdout",
     "output_type": "stream",
     "text": [
      "1\n",
      "10\n",
      "101\n",
      "1010\n",
      "10101\n"
     ]
    }
   ],
   "source": [
    "for i in range(1,6):\n",
    "    for j in range(1,i+1):\n",
    "        print(f\"{j%2}\", end = \"\")\n",
    "    print(\"\")"
   ]
  },
  {
   "cell_type": "code",
   "execution_count": 25,
   "id": "121604cc",
   "metadata": {},
   "outputs": [
    {
     "name": "stdout",
     "output_type": "stream",
     "text": [
      "1 \n",
      "2 3 \n",
      "4 5 6 \n",
      "7 8 9 10 \n",
      "11 12 13 14 15 \n"
     ]
    }
   ],
   "source": [
    "k=1\n",
    "for i in range(1,6):\n",
    "    for j in range(1, i+1):\n",
    "        print(f\"{k}\", end=\" \")\n",
    "        k+=1\n",
    "    print(\"\")"
   ]
  },
  {
   "cell_type": "code",
   "execution_count": 53,
   "id": "ef63e5e0",
   "metadata": {},
   "outputs": [
    {
     "name": "stdout",
     "output_type": "stream",
     "text": [
      "5\n",
      "54\n",
      "543\n",
      "5432\n",
      "54321\n"
     ]
    }
   ],
   "source": [
    "for i in range(1,6):\n",
    "    j=1\n",
    "    k=6\n",
    "    while(j<i+1):\n",
    "        print(f\"{k-1}\", end=\"\")\n",
    "        k-=1\n",
    "        j+=1\n",
    "    print(\"\")"
   ]
  },
  {
   "cell_type": "code",
   "execution_count": 29,
   "id": "b8203490",
   "metadata": {},
   "outputs": [
    {
     "name": "stdout",
     "output_type": "stream",
     "text": [
      "5\n",
      "44\n",
      "333\n",
      "2222\n",
      "11111\n"
     ]
    }
   ],
   "source": [
    "n=6\n",
    "\n",
    "for i in range(1,6):\n",
    "    j=n-i;\n",
    "    print(f\"{j}\"*i)"
   ]
  },
  {
   "cell_type": "code",
   "execution_count": 59,
   "id": "0f49a170",
   "metadata": {},
   "outputs": [
    {
     "name": "stdout",
     "output_type": "stream",
     "text": [
      "*****\n",
      "****\n",
      "***\n",
      "**\n",
      "*\n"
     ]
    }
   ],
   "source": [
    "for i in range(5,0,-1):\n",
    "    print(\"*\"*i)"
   ]
  },
  {
   "cell_type": "code",
   "execution_count": 87,
   "id": "720dc209",
   "metadata": {},
   "outputs": [
    {
     "name": "stdout",
     "output_type": "stream",
     "text": [
      "11111\n",
      "2222\n",
      "333\n",
      "44\n",
      "5\n"
     ]
    }
   ],
   "source": [
    "j=0\n",
    "for i in range(5,0,-1):\n",
    "    print(f\"{j+1}\"*i)\n",
    "    j+=1"
   ]
  },
  {
   "cell_type": "code",
   "execution_count": 94,
   "id": "37bacf9c",
   "metadata": {},
   "outputs": [
    {
     "name": "stdout",
     "output_type": "stream",
     "text": [
      "12345\n",
      "1234\n",
      "123\n",
      "12\n",
      "1\n",
      "\n"
     ]
    }
   ],
   "source": [
    "for i in range(6,0,-1):\n",
    "    for j in range(1, i):\n",
    "        print(f\"{j}\", end=\"\")\n",
    "    print(\"\")"
   ]
  },
  {
   "cell_type": "code",
   "execution_count": 95,
   "id": "b50327a6",
   "metadata": {},
   "outputs": [
    {
     "name": "stdout",
     "output_type": "stream",
     "text": [
      "55555\n",
      "4444\n",
      "333\n",
      "22\n",
      "1\n"
     ]
    }
   ],
   "source": [
    "j=6\n",
    "for i in range(5,0,-1):\n",
    "    \n",
    "    print(f\"{j-1}\"*i)\n",
    "    j-=1"
   ]
  },
  {
   "cell_type": "code",
   "execution_count": 105,
   "id": "58c4d92f",
   "metadata": {},
   "outputs": [
    {
     "name": "stdout",
     "output_type": "stream",
     "text": [
      "54321\n",
      "5432\n",
      "543\n",
      "54\n",
      "5\n",
      "\n"
     ]
    }
   ],
   "source": [
    "for i in range(6,0,-1):\n",
    "    for j in range(1,i):\n",
    "        print(f\"{6-j}\", end=\"\")\n",
    "    print(\"\")"
   ]
  },
  {
   "cell_type": "markdown",
   "id": "5328e565",
   "metadata": {},
   "source": [
    "# Q2 Patterns"
   ]
  },
  {
   "cell_type": "code",
   "execution_count": 136,
   "id": "23ccd03c",
   "metadata": {},
   "outputs": [
    {
     "name": "stdout",
     "output_type": "stream",
     "text": [
      "          *          \n",
      "         ***         \n",
      "        *****        \n",
      "       *******       \n",
      "      *********      \n",
      "     ***********     \n"
     ]
    }
   ],
   "source": [
    "i=1\n",
    "while (i<=11):\n",
    "    s=\"*\"*i\n",
    "    print(s.center(21))\n",
    "    i+=2"
   ]
  },
  {
   "cell_type": "code",
   "execution_count": 44,
   "id": "13d07ab9",
   "metadata": {},
   "outputs": [
    {
     "name": "stdout",
     "output_type": "stream",
     "text": [
      "Enter the number of rows: 5\n",
      "    1\n",
      "   222\n",
      "  33333\n",
      " 4444444\n",
      "555555555\n"
     ]
    }
   ],
   "source": [
    "n=int(input(\"Enter the number of rows: \"))\n",
    "for i in range(n):\n",
    "    for j in range (0, n-1-i):\n",
    "        print(\" \", end=\"\")\n",
    "    for j in range (0, 2*i+1):\n",
    "        print(f\"{i+1}\", end=\"\")\n",
    "    print(\"\")"
   ]
  },
  {
   "cell_type": "code",
   "execution_count": 47,
   "id": "4f09f7e1",
   "metadata": {},
   "outputs": [
    {
     "name": "stdout",
     "output_type": "stream",
     "text": [
      "Enter the number of rows: 5\n",
      "    1\n",
      "   123\n",
      "  12345\n",
      " 1234567\n",
      "123456789\n"
     ]
    }
   ],
   "source": [
    "n=int(input(\"Enter the number of rows: \"))\n",
    "for i in range(n):\n",
    "    for j in range (0, n-1-i):\n",
    "        print(\" \", end=\"\")\n",
    "    for j in range (1, (2*i+1)+1):\n",
    "        print(f\"{j}\", end=\"\")\n",
    "    print(\"\")"
   ]
  },
  {
   "cell_type": "code",
   "execution_count": 30,
   "id": "e1590a5a",
   "metadata": {},
   "outputs": [
    {
     "name": "stdout",
     "output_type": "stream",
     "text": [
      "          *          \n",
      "        * * *        \n",
      "      * * * * *      \n",
      "    * * * * * * *    \n",
      "  * * * * * * * * *  \n",
      "* * * * * * * * * * * \n"
     ]
    }
   ],
   "source": [
    "i=1\n",
    "while (i<=11):\n",
    "    s=\"* \"*i\n",
    "    print(s.center(21))\n",
    "    i+=2"
   ]
  },
  {
   "cell_type": "markdown",
   "id": "94955368",
   "metadata": {},
   "source": [
    "# Q3)"
   ]
  },
  {
   "cell_type": "code",
   "execution_count": 33,
   "id": "9fbcf1cc",
   "metadata": {},
   "outputs": [
    {
     "name": "stdout",
     "output_type": "stream",
     "text": [
      "    1     \n",
      "   232    \n",
      "  34543   \n",
      " 4567654  \n",
      "567898765 \n"
     ]
    }
   ],
   "source": [
    "n=0\n",
    "for i in range(1,6):\n",
    "    st=''\n",
    "    for j in range(1,2*i):\n",
    "        if j<=i:\n",
    "            n=n+1\n",
    "        else:\n",
    "            n=n-1\n",
    "        st=st+str(n)\n",
    "    print(st.center(10))"
   ]
  },
  {
   "cell_type": "code",
   "execution_count": 37,
   "id": "d686c4bb",
   "metadata": {},
   "outputs": [
    {
     "name": "stdout",
     "output_type": "stream",
     "text": [
      "    5     \n",
      "   545    \n",
      "  54345   \n",
      " 5432345  \n",
      "543212345 \n"
     ]
    }
   ],
   "source": [
    "for i in range(1,6):\n",
    "    n=6\n",
    "    st=\"\"\n",
    "    for j in range(2*i, 1, -1):\n",
    "        if j<=i:\n",
    "            n=n+1\n",
    "        else:\n",
    "            n=n-1\n",
    "        st=st+str(n)\n",
    "    print(st.center(10))"
   ]
  },
  {
   "cell_type": "code",
   "execution_count": 13,
   "id": "34f8e425",
   "metadata": {},
   "outputs": [
    {
     "name": "stdout",
     "output_type": "stream",
     "text": [
      "*********\n",
      " *******\n",
      "  *****\n",
      "   ***\n",
      "    *\n"
     ]
    }
   ],
   "source": [
    "n=6\n",
    "for i in range(n-1, 0, -1):\n",
    "    for j in range (0, n-(i+1)):\n",
    "        print(\" \", end=\"\")\n",
    "    for j in range (0, (2*i)-1):\n",
    "        print(\"*\", end=\"\")\n",
    "    print(\"\")"
   ]
  },
  {
   "cell_type": "code",
   "execution_count": 79,
   "id": "2ac17fa1",
   "metadata": {},
   "outputs": [
    {
     "name": "stdout",
     "output_type": "stream",
     "text": [
      "Enter the number of rows: 5\n",
      "555555555\n",
      " 4444444\n",
      "  33333\n",
      "   222\n",
      "    1\n"
     ]
    }
   ],
   "source": [
    "n=int(input(\"Enter the number of rows: \"))\n",
    "for i in range(n, 0, -1):\n",
    "    for j in range (0, n-(i+1)+1):\n",
    "        print(\" \", end=\"\")\n",
    "    for j in range (0, (2*i)-1):\n",
    "        print(f\"{i}\", end=\"\")\n",
    "    print(\"\")"
   ]
  },
  {
   "cell_type": "code",
   "execution_count": 80,
   "id": "47c18046",
   "metadata": {},
   "outputs": [
    {
     "name": "stdout",
     "output_type": "stream",
     "text": [
      "Enter the number of rows: 5\n",
      "123456789\n",
      " 1234567\n",
      "  12345\n",
      "   123\n",
      "    1\n"
     ]
    }
   ],
   "source": [
    "n=int(input(\"Enter the number of rows: \"))\n",
    "for i in range(n, 0, -1):\n",
    "    for j in range (0, n-(i+1)+1):\n",
    "        print(\" \", end=\"\")\n",
    "    for j in range (0, (2*i)-1):\n",
    "        print(f\"{j+1}\", end=\"\")\n",
    "    print(\"\")"
   ]
  },
  {
   "cell_type": "code",
   "execution_count": 49,
   "id": "ba209b73",
   "metadata": {},
   "outputs": [
    {
     "name": "stdout",
     "output_type": "stream",
     "text": [
      "567898765 \n",
      " 5678765  \n",
      "  56765   \n",
      "   565    \n",
      "    5     \n"
     ]
    }
   ],
   "source": [
    "for i in range(5,0,-1):\n",
    "    n=4\n",
    "    st=\"\"\n",
    "    for j in range(2*i, 1, -1):\n",
    "        if j<=i:\n",
    "            n=n-1\n",
    "        else:\n",
    "            n=n+1\n",
    "        st=st+str(n)\n",
    "    print(st.center(10))\n",
    "    n-=1"
   ]
  },
  {
   "cell_type": "code",
   "execution_count": 59,
   "id": "ce9f617e",
   "metadata": {},
   "outputs": [
    {
     "name": "stdout",
     "output_type": "stream",
     "text": [
      "567898765 \n",
      " 4567654  \n",
      "  34543   \n",
      "   232    \n",
      "    1     \n"
     ]
    }
   ],
   "source": [
    "n=4\n",
    "for i in range(5,0,-1):\n",
    "    k=n\n",
    "    st=\"\"\n",
    "    for j in range(2*i, 1, -1):\n",
    "        if j<=i:\n",
    "            n=n-1\n",
    "        else:\n",
    "            n=n+1\n",
    "        st=st+str(n)\n",
    "    print(st.center(10))\n",
    "    k-=1\n",
    "    n=k"
   ]
  },
  {
   "cell_type": "markdown",
   "id": "b45df5e0",
   "metadata": {},
   "source": [
    "# Q4"
   ]
  },
  {
   "cell_type": "code",
   "execution_count": 85,
   "id": "a89ed887",
   "metadata": {},
   "outputs": [
    {
     "name": "stdout",
     "output_type": "stream",
     "text": [
      "Enter the number of rows: 5\n",
      "    *\n",
      "   ***\n",
      "  *****\n",
      " *******\n",
      "*********\n",
      " *******\n",
      "  *****\n",
      "   ***\n",
      "    *\n"
     ]
    }
   ],
   "source": [
    "n=int(input(\"Enter the number of rows: \"))\n",
    "for i in range(n):\n",
    "    for j in range (0, n-1-i):\n",
    "        print(\" \", end=\"\")\n",
    "    for j in range (0, 2*i+1):\n",
    "        print(\"*\", end=\"\")\n",
    "    print(\"\")\n",
    "for i in range(n-1, 0, -1):\n",
    "    for j in range (0, n-(i+1)+1):\n",
    "        print(\" \", end=\"\")\n",
    "    for j in range (0, (2*i)-1):\n",
    "        print(\"*\", end=\"\")\n",
    "    print(\"\")"
   ]
  },
  {
   "cell_type": "code",
   "execution_count": 89,
   "id": "6dde7064",
   "metadata": {},
   "outputs": [
    {
     "name": "stdout",
     "output_type": "stream",
     "text": [
      "Enter the number of rows: 5\n",
      "    1\n",
      "   222\n",
      "  33333\n",
      " 4444444\n",
      "555555555\n",
      " 4444444\n",
      "  33333\n",
      "   222\n",
      "    1\n"
     ]
    }
   ],
   "source": [
    "n=int(input(\"Enter the number of rows: \"))\n",
    "for i in range(n):\n",
    "    for j in range (0, n-1-i):\n",
    "        print(\" \", end=\"\")\n",
    "    for j in range (0, 2*i+1):\n",
    "        print(f\"{i+1}\", end=\"\")\n",
    "    print(\"\")\n",
    "for i in range(n-1, 0, -1):\n",
    "    for j in range (0, n-(i+1)+1):\n",
    "        print(\" \", end=\"\")\n",
    "    for j in range (0, (2*i)-1):\n",
    "        print(f\"{i}\", end=\"\")\n",
    "    print(\"\")"
   ]
  },
  {
   "cell_type": "code",
   "execution_count": 91,
   "id": "7a95d299",
   "metadata": {},
   "outputs": [
    {
     "name": "stdout",
     "output_type": "stream",
     "text": [
      "Enter the number of rows: 5\n",
      "    1\n",
      "   123\n",
      "  12345\n",
      " 1234567\n",
      "123456789\n",
      " 1234567\n",
      "  12345\n",
      "   123\n",
      "    1\n"
     ]
    }
   ],
   "source": [
    "n=int(input(\"Enter the number of rows: \"))\n",
    "for i in range(n):\n",
    "    for j in range (0, n-1-i):\n",
    "        print(\" \", end=\"\")\n",
    "    for j in range (0, 2*i+1):\n",
    "        print(f\"{j+1}\", end=\"\")\n",
    "    print(\"\")\n",
    "for i in range(n-1, 0, -1):\n",
    "    for j in range (0, n-(i+1)+1):\n",
    "        print(\" \", end=\"\")\n",
    "    for j in range (0, (2*i)-1):\n",
    "        print(f\"{j+1}\", end=\"\")\n",
    "    print(\"\")"
   ]
  },
  {
   "cell_type": "code",
   "execution_count": 97,
   "id": "8de9b0bc",
   "metadata": {},
   "outputs": [
    {
     "name": "stdout",
     "output_type": "stream",
     "text": [
      "Enter the number of rows for the square: 7\n",
      "*******\n",
      "*******\n",
      "*******\n",
      "*******\n",
      "*******\n",
      "*******\n",
      "*******\n"
     ]
    }
   ],
   "source": [
    "n=int(input(\"Enter the number of rows for the square: \"))\n",
    "for i in range(n):\n",
    "    print(\"*\"*n)"
   ]
  },
  {
   "cell_type": "code",
   "execution_count": 99,
   "id": "2a582f5e",
   "metadata": {},
   "outputs": [
    {
     "name": "stdout",
     "output_type": "stream",
     "text": [
      "Enter the number of rows for the square: 7\n",
      "*******\n",
      "*     *\n",
      "*     *\n",
      "*     *\n",
      "*     *\n",
      "*     *\n",
      "*******\n"
     ]
    }
   ],
   "source": [
    "n=int(input(\"Enter the number of rows for the square: \"))\n",
    "for i in range(0, n):\n",
    "    if i==0 or i==n-1:\n",
    "        print(\"*\"*n)\n",
    "    else:\n",
    "        print(\"*\", end=\"\")\n",
    "        for j in range(0, n-2):\n",
    "            print(\" \", end=\"\")\n",
    "        print(\"*\")"
   ]
  },
  {
   "cell_type": "code",
   "execution_count": 136,
   "id": "cd2dead8",
   "metadata": {},
   "outputs": [
    {
     "name": "stdout",
     "output_type": "stream",
     "text": [
      "Enter the number of rows: 6\n",
      "*\\*********/*\n",
      "**\\*******/**\n",
      "***\\*****/***\n",
      "****\\***/****\n",
      "*****\\*/*****\n",
      "******\\******\n",
      "*****/*\\*****\n",
      "****/***\\****\n",
      "***/*****\\***\n",
      "**/*******\\**\n",
      "*/*********\\*\n",
      "\n"
     ]
    }
   ],
   "source": [
    "n=int(input(\"Enter the number of rows: \"))\n",
    "s=\"\"\n",
    "for i in range(n-1, -1, -1):\n",
    "    for j in range(n-(i+1), -1, -1):\n",
    "        s+=\"*\"\n",
    "    s+=\"\\\\\"\n",
    "    for j in range((2*i)-1, 0, -1):\n",
    "        s+=\"*\"\n",
    "    if (i!=0):\n",
    "        s+=\"/\"\n",
    "    for j in range(n-(i+1), -1, -1):\n",
    "        s+=\"*\"\n",
    "    s+=\"\\n\"\n",
    "n1=n-1\n",
    "for i in range(0, n1):\n",
    "    for j in range(n1-(i+1), -1, -1):\n",
    "        s+=\"*\"\n",
    "    s+=\"/\"\n",
    "    for j in range(0, (2*i)+1):\n",
    "        s+=\"*\"\n",
    "    s+=\"\\\\\"\n",
    "    for j in range(n1-(i+1), -1, -1):\n",
    "        s+=\"*\"\n",
    "    s+=\"\\n\"\n",
    "print(f\"{s:-^}\")"
   ]
  },
  {
   "cell_type": "markdown",
   "id": "9cfd4f78",
   "metadata": {},
   "source": [
    "# Q5"
   ]
  },
  {
   "cell_type": "code",
   "execution_count": 122,
   "id": "918e5443",
   "metadata": {},
   "outputs": [
    {
     "name": "stdout",
     "output_type": "stream",
     "text": [
      "---------------.|.---------------\n",
      "------------.|..|..|.------------\n",
      "---------.|..|..|..|..|.---------\n",
      "------.|..|..|..|..|..|..|.------\n",
      "---.|..|..|..|..|..|..|..|..|.---\n",
      "-------------Welcome-------------\n",
      "---.|..|..|..|..|..|..|..|..|.---\n",
      "------.|..|..|..|..|..|..|.------\n",
      "---------.|..|..|..|..|.---------\n",
      "------------.|..|..|.------------\n",
      "---------------.|.---------------\n"
     ]
    }
   ],
   "source": [
    "i=1\n",
    "while (i<=10):\n",
    "    s=\".|.\"*i\n",
    "    print(s.center(33, '-'))\n",
    "    i+=2\n",
    "wel=\"Welcome\"\n",
    "print(wel.center(33, '-'))\n",
    "i=9\n",
    "while (i>=1):\n",
    "    s=\".|.\"*i\n",
    "    print(s.center(33, '-'))\n",
    "    i-=2"
   ]
  },
  {
   "cell_type": "code",
   "execution_count": 106,
   "id": "c77b21cc",
   "metadata": {},
   "outputs": [
    {
     "name": "stdout",
     "output_type": "stream",
     "text": [
      "------------------j------------------\n",
      "----------------j-i-j----------------\n",
      "--------------j-i-h-i-j--------------\n",
      "------------j-i-h-g-h-i-j------------\n",
      "----------j-i-h-g-f-g-h-i-j----------\n",
      "--------j-i-h-g-f-e-f-g-h-i-j--------\n",
      "------j-i-h-g-f-e-d-e-f-g-h-i-j------\n",
      "----j-i-h-g-f-e-d-c-d-e-f-g-h-i-j----\n",
      "--j-i-h-g-f-e-d-c-b-c-d-e-f-g-h-i-j--\n",
      "j-i-h-g-f-e-d-c-b-a-b-c-d-e-f-g-h-i-j-\n",
      "--j-i-h-g-f-e-d-c-b-c-d-e-f-g-h-i-j--\n",
      "----j-i-h-g-f-e-d-c-d-e-f-g-h-i-j----\n",
      "------j-i-h-g-f-e-d-e-f-g-h-i-j------\n",
      "--------j-i-h-g-f-e-f-g-h-i-j--------\n",
      "----------j-i-h-g-f-g-h-i-j----------\n",
      "------------j-i-h-g-h-i-j------------\n",
      "--------------j-i-h-i-j--------------\n",
      "----------------j-i-j----------------\n",
      "------------------j------------------\n"
     ]
    }
   ],
   "source": [
    "for i in range(1,10):\n",
    "    n=107\n",
    "    st=\"\"\n",
    "    for j in range(2*i, 1, -1):\n",
    "        if j<=i:\n",
    "            n=n+1\n",
    "        else:\n",
    "            n=n-1\n",
    "        if i==10 and j==1:\n",
    "            st=st+chr(n)\n",
    "        else:\n",
    "            st=st+chr(n)+\"-\"\n",
    "    print(st.center(37, '-'))\n",
    "for i in range(10,0,-1):\n",
    "    n=107\n",
    "    st=\"\"\n",
    "    for j in range(2*i, 1, -1):\n",
    "        if j<=i:\n",
    "            n=n+1\n",
    "        else:\n",
    "            n=n-1\n",
    "        st=st+chr(n)+\"-\"\n",
    "    print(st.center(37, '-'))\n",
    "    n-=1"
   ]
  }
 ],
 "metadata": {
  "kernelspec": {
   "display_name": "Python 3",
   "language": "python",
   "name": "python3"
  },
  "language_info": {
   "codemirror_mode": {
    "name": "ipython",
    "version": 3
   },
   "file_extension": ".py",
   "mimetype": "text/x-python",
   "name": "python",
   "nbconvert_exporter": "python",
   "pygments_lexer": "ipython3",
   "version": "3.8.8"
  }
 },
 "nbformat": 4,
 "nbformat_minor": 5
}
