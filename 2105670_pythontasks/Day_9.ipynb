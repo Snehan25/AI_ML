{
 "cells": [
  {
   "cell_type": "markdown",
   "id": "d1281499",
   "metadata": {},
   "source": [
    "**Q1) Write a Python program to check whether a number is negative, positive or zero.**"
   ]
  },
  {
   "cell_type": "code",
   "execution_count": 4,
   "id": "832a2a6d",
   "metadata": {},
   "outputs": [
    {
     "name": "stdout",
     "output_type": "stream",
     "text": [
      "Enter the number: 0\n",
      "The value is zero.\n"
     ]
    }
   ],
   "source": [
    "x=int(input(\"Enter the number: \"))\n",
    "if x==0:\n",
    "    print(\"The value is zero.\")\n",
    "elif x>0:\n",
    "    print(\"The value is positive\")\n",
    "else:\n",
    "    print(\"The value is negative\")"
   ]
  },
  {
   "cell_type": "markdown",
   "id": "664cfe31",
   "metadata": {},
   "source": [
    "**Q2)Write a Python program to check whether a number is divisible by 5 and 11 or not.**"
   ]
  },
  {
   "cell_type": "code",
   "execution_count": 7,
   "id": "c45892f7",
   "metadata": {},
   "outputs": [
    {
     "name": "stdout",
     "output_type": "stream",
     "text": [
      "Enter the number: 45\n",
      "The number is not divisible by 5 and 11\n"
     ]
    }
   ],
   "source": [
    "x=int(input(\"Enter the number: \"))\n",
    "if x%5==0 and x%11==0:\n",
    "    print(\"The number is divisible by 5 and 11\")\n",
    "else:\n",
    "    print(\"The number is not divisible by 5 and 11\")"
   ]
  },
  {
   "cell_type": "markdown",
   "id": "917a5e57",
   "metadata": {},
   "source": [
    "**Q3) Write a Python program to check whether a year is leap year or not.**"
   ]
  },
  {
   "cell_type": "code",
   "execution_count": 10,
   "id": "ac4d27a5",
   "metadata": {},
   "outputs": [
    {
     "name": "stdout",
     "output_type": "stream",
     "text": [
      "Enter the Year: 2003\n",
      "The year is not a leap year.\n"
     ]
    }
   ],
   "source": [
    "year=int(input(\"Enter the Year: \"))\n",
    "leap = False\n",
    "if year%4==0:\n",
    "    if year%100==0:\n",
    "        if year%400==0:\n",
    "            leap=True\n",
    " \n",
    "    print(\"The year is a leap year.\")"
   ]
  },
  {
   "cell_type": "markdown",
   "id": "d75d1596",
   "metadata": {},
   "source": [
    "**Q4) Write a Python program to check whether a character is alphabet or not.**"
   ]
  },
  {
   "cell_type": "code",
   "execution_count": 12,
   "id": "e1001dd7",
   "metadata": {},
   "outputs": [
    {
     "name": "stdout",
     "output_type": "stream",
     "text": [
      "Enter the character: 2\n",
      "False\n"
     ]
    }
   ],
   "source": [
    "x=input(\"Enter the character: \")\n",
    "y=x.isalpha()\n",
    "print(y)"
   ]
  },
  {
   "cell_type": "markdown",
   "id": "0687c61a",
   "metadata": {},
   "source": [
    "**Q5) Write a Python program to input any alphabet and check whether it is vowel or consonant.**"
   ]
  },
  {
   "cell_type": "code",
   "execution_count": 6,
   "id": "ff20486e",
   "metadata": {},
   "outputs": [
    {
     "name": "stdout",
     "output_type": "stream",
     "text": [
      "Enter a Character: E\n",
      "The character entered is a vowel.\n"
     ]
    }
   ],
   "source": [
    "x=input(\"Enter a Character: \")\n",
    "if x=='A' or x=='E' or x=='I' or x=='O' or x=='U':\n",
    "    print(\"The character entered is a vowel.\")\n",
    "elif x=='a' or x=='e' or x=='i' or x=='o' or x=='u':\n",
    "    print(\"The character entered is a vowel.\")\n",
    "else:\n",
    "    print(\"The character is a consonant.\")"
   ]
  },
  {
   "cell_type": "markdown",
   "id": "98c01735",
   "metadata": {},
   "source": [
    "**Q6) Write a Python program to input any character and check whether it is alphabet, digit or special character.**"
   ]
  },
  {
   "cell_type": "code",
   "execution_count": 12,
   "id": "da92efb1",
   "metadata": {},
   "outputs": [
    {
     "name": "stdout",
     "output_type": "stream",
     "text": [
      "Enter a Character: 4\n",
      "The value entered is a digit.\n"
     ]
    }
   ],
   "source": [
    "import re\n",
    "check=re.compile('[@_!#$%^&*()<>?/\\|}{~:]')\n",
    "x=input(\"Enter a Character: \")\n",
    "if x.isdigit():\n",
    "    print(\"The value entered is a digit.\")\n",
    "elif check.search(x)!=None:\n",
    "    print(\"The value entered is a special character.\")\n",
    "else:\n",
    "    print(\"The value entered is a character.\")"
   ]
  },
  {
   "cell_type": "markdown",
   "id": "47c7c3a1",
   "metadata": {},
   "source": [
    "**Q7) Write a Python program to check whether a character is uppercase or lowercase alphabet.**"
   ]
  },
  {
   "cell_type": "code",
   "execution_count": 17,
   "id": "8d55dbfc",
   "metadata": {},
   "outputs": [
    {
     "name": "stdout",
     "output_type": "stream",
     "text": [
      "Enter a Character: hello\n",
      "Lowercase characters.\n"
     ]
    }
   ],
   "source": [
    "x=input(\"Enter a Character: \")\n",
    "if x.islower():\n",
    "    print(\"Lowercase characters.\")\n",
    "elif x.isupper():\n",
    "    print(\"Uppercase characters.\")"
   ]
  },
  {
   "cell_type": "markdown",
   "id": "d94b555d",
   "metadata": {},
   "source": [
    "**Q9) Write a Python program to input angles of a triangle and check whether triangle is valid or not.**"
   ]
  },
  {
   "cell_type": "code",
   "execution_count": 1,
   "id": "d1d62b24",
   "metadata": {},
   "outputs": [
    {
     "name": "stdout",
     "output_type": "stream",
     "text": [
      "Enter angle 1: 45\n",
      "Enter angle 2: 45\n",
      "Enter angle 3: 90\n",
      "the angles are valid.\n"
     ]
    }
   ],
   "source": [
    "a=int(input(\"Enter angle 1: \"))\n",
    "b=int(input(\"Enter angle 2: \"))\n",
    "c=int(input(\"Enter angle 3: \"))\n",
    "if a+b+c==180:\n",
    "    print(\"the angles are valid.\")\n",
    "else:\n",
    "    print(\"The angles are not valid.\")"
   ]
  },
  {
   "cell_type": "markdown",
   "id": "610abbae",
   "metadata": {},
   "source": [
    "**Q10) Write a Python program to input all sides of a triangle and check whether triangle is valid or not.**"
   ]
  },
  {
   "cell_type": "code",
   "execution_count": 2,
   "id": "5b110210",
   "metadata": {},
   "outputs": [
    {
     "name": "stdout",
     "output_type": "stream",
     "text": [
      "Enter side 1: 3\n",
      "Enter side 2: 4\n",
      "Enter side 3: 5\n",
      "the sides are valid.\n"
     ]
    }
   ],
   "source": [
    "a=int(input(\"Enter side 1: \"))\n",
    "b=int(input(\"Enter side 2: \"))\n",
    "c=int(input(\"Enter side 3: \"))\n",
    "if (a+b)>c or (a+c)>b or b+c>a:\n",
    "    print(\"the sides are valid.\")\n",
    "else:\n",
    "    print(\"the sides are valid.\")"
   ]
  },
  {
   "cell_type": "markdown",
   "id": "8b37afaa",
   "metadata": {},
   "source": [
    "**Q11) Write a Python program to check whether the triangle is equilateral, isosceles or scalene triangle.**"
   ]
  },
  {
   "cell_type": "code",
   "execution_count": 3,
   "id": "fb30d904",
   "metadata": {},
   "outputs": [
    {
     "name": "stdout",
     "output_type": "stream",
     "text": [
      "Enter side 1: 3\n",
      "Enter side 2: 4\n",
      "Enter side 3: 5\n",
      "Scalene Triangle.\n"
     ]
    }
   ],
   "source": [
    "a=int(input(\"Enter side 1: \"))\n",
    "b=int(input(\"Enter side 2: \"))\n",
    "c=int(input(\"Enter side 3: \"))\n",
    "if a==b and b==c:\n",
    "    print(\"Equilateral Triangle.\")\n",
    "elif a==b or b==c or c==a:\n",
    "    print(\"Isoceles Triangle.\")\n",
    "else:\n",
    "    print(\"Scalene Triangle.\")"
   ]
  },
  {
   "cell_type": "markdown",
   "id": "0a5e1162",
   "metadata": {},
   "source": [
    "**Q12) Write a Python program to input marks of five subjects Physics, Chemistry, Biology, Mathematics and Computer. Calculate percentage and grade according to following:**\n",
    "\n",
    " Percentage >= 90% : Grade A \n",
    "\n",
    " Percentage >= 80% : Grade B  \n",
    "\n",
    " Percentage >= 70% : Grade C  \n",
    "\n",
    " Percentage >= 60% : Grade D  \n",
    "\n",
    " Percentage >= 40% : Grade E \n",
    "\n",
    " Percentage < 40% : Grade F "
   ]
  },
  {
   "cell_type": "code",
   "execution_count": 4,
   "id": "46d0d099",
   "metadata": {},
   "outputs": [
    {
     "name": "stdout",
     "output_type": "stream",
     "text": [
      "Enter marks in Physics: 90\n",
      "Enter marks in Chemistry: 60\n",
      "Enter marks in Mathematics: 60\n",
      "Enter marks in Biology: 60\n",
      "Enter marks in Computer Science: 60\n",
      "Grade : D\n"
     ]
    }
   ],
   "source": [
    "p=int(input(\"Enter marks in Physics: \"))\n",
    "c=int(input(\"Enter marks in Chemistry: \"))\n",
    "m=int(input(\"Enter marks in Mathematics: \"))\n",
    "b=int(input(\"Enter marks in Biology: \"))\n",
    "cs=int(input(\"Enter marks in Computer Science: \"))\n",
    "percent=(p+c+m+b+cs)/5\n",
    "print(\"Grade : \", end=\"\")\n",
    "if percent>=90:\n",
    "    print(\"A\")\n",
    "elif percent>=80:\n",
    "    print(\"B\")\n",
    "elif percent>=70:\n",
    "    print(\"C\")\n",
    "elif percent>=60:\n",
    "    print(\"D\")\n",
    "elif percent>=40:\n",
    "    print(\"E\")\n",
    "else:\n",
    "    print(\"F\")"
   ]
  },
  {
   "cell_type": "markdown",
   "id": "d140b883",
   "metadata": {},
   "source": [
    "**Q13) Write a Python program to input basic salary of an employee and calculate its Gross salary according to following:**\n",
    "\n",
    " Basic Salary <= 10000 : HRA = 20%, DA = 80%  \n",
    "\n",
    " Basic Salary <= 20000 : HRA = 25%, DA = 90%  \n",
    "\n",
    " Basic Salary > 20000 : HRA = 30%, DA = 95% "
   ]
  },
  {
   "cell_type": "code",
   "execution_count": 5,
   "id": "3e885008",
   "metadata": {},
   "outputs": [
    {
     "name": "stdout",
     "output_type": "stream",
     "text": [
      "Enter basic salary: 15000\n",
      "Gross Salary =  32250.0\n"
     ]
    }
   ],
   "source": [
    "bs=int(input(\"Enter basic salary: \"))\n",
    "if bs<=10000:\n",
    "    gs=bs+((20/100)*bs)+((80/100)*bs)\n",
    "elif bs<=20000:\n",
    "    gs=bs+((25/100)*bs)+((90/100)*bs)\n",
    "else:\n",
    "    gs=bs+((30/100)*bs)+((95/100)*bs)\n",
    "print(\"Gross Salary = \",gs)"
   ]
  },
  {
   "cell_type": "markdown",
   "id": "e782b280",
   "metadata": {},
   "source": [
    "**Q14) Write a Python Program to input electricity unit charges and calculate total electricity bill according to the given condition:**\n",
    "\n",
    "For first 50 units Rs. 0.50/unit\n",
    "\n",
    "For next 100 units Rs. 0.75/unit\n",
    "\n",
    "For next 100 units Rs. 1.20/unit \n",
    "\n",
    "For unit above 250 Rs. 1.50/unit, an additional surcharge of 20% is added to the bill"
   ]
  },
  {
   "cell_type": "code",
   "execution_count": 8,
   "id": "024c9f3e",
   "metadata": {},
   "outputs": [
    {
     "name": "stdout",
     "output_type": "stream",
     "text": [
      "Enter number of electricity units: 500\n",
      "Price =  714.0\n"
     ]
    }
   ],
   "source": [
    "units=int(input(\"Enter number of electricity units: \"))\n",
    "price=0\n",
    "flag=0\n",
    "if units>=50:\n",
    "    price+=0.5*50\n",
    "    units-=50\n",
    "    if units>=100:\n",
    "        price+=0.75*100\n",
    "        units-=100\n",
    "        if units>=100:\n",
    "            price+=1.2*100\n",
    "            units-=100\n",
    "            if units>=250:\n",
    "                price+=1.5*units\n",
    "                units-=units\n",
    "                flag=1\n",
    "        else:\n",
    "            price+=1.2*units\n",
    "            units-=units\n",
    "    else:\n",
    "        price+=0.75*units\n",
    "        units-=units\n",
    "if flag==1:\n",
    "    price+=(price*(20/100))\n",
    "print(\"Price = \", price)"
   ]
  }
 ],
 "metadata": {
  "kernelspec": {
   "display_name": "Python 3",
   "language": "python",
   "name": "python3"
  },
  "language_info": {
   "codemirror_mode": {
    "name": "ipython",
    "version": 3
   },
   "file_extension": ".py",
   "mimetype": "text/x-python",
   "name": "python",
   "nbconvert_exporter": "python",
   "pygments_lexer": "ipython3",
   "version": "3.8.8"
  }
 },
 "nbformat": 4,
 "nbformat_minor": 5
}
