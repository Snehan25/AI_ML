{
 "cells": [
  {
   "cell_type": "markdown",
   "id": "942dc439",
   "metadata": {},
   "source": [
    "**Q1) Write a Python Code to count the Number of Each Vowel in a given string.**"
   ]
  },
  {
   "cell_type": "code",
   "execution_count": 2,
   "id": "9329453f",
   "metadata": {},
   "outputs": [
    {
     "name": "stdout",
     "output_type": "stream",
     "text": [
      "Enter the string: Hello World\n",
      "Number of vowels in python = 3.\n"
     ]
    }
   ],
   "source": [
    "string=input(\"Enter the string: \")\n",
    "count=0\n",
    "for x in string:\n",
    "    if x=='A' or x=='E' or x=='I' or x=='O' or x=='U':\n",
    "        count+=1\n",
    "    elif x=='a' or x=='e' or x=='i' or x=='o' or x=='u':\n",
    "        count+=1\n",
    "print(f\"Number of vowels in python = {count}.\")"
   ]
  },
  {
   "cell_type": "markdown",
   "id": "8fca1e6d",
   "metadata": {},
   "source": [
    "**Q2) Write a Python Code to count number of words, characters and number of spaces in a given string.** "
   ]
  },
  {
   "cell_type": "code",
   "execution_count": 7,
   "id": "12f4e040",
   "metadata": {},
   "outputs": [
    {
     "name": "stdout",
     "output_type": "stream",
     "text": [
      "Enter the string: Hello World. This is Karthik Sarma Dhulipati\n",
      "Number of words in the string = 7\n",
      "Number of characters in the string = 44\n",
      "Number of spaces in the string = 6\n"
     ]
    }
   ],
   "source": [
    "string=input(\"Enter the string: \")\n",
    "word=string.split(\" \")\n",
    "c_words=word.__len__()\n",
    "print(f\"Number of words in the string = {c_words}\")\n",
    "c_char=string.__len__()\n",
    "print(f\"Number of characters in the string = {c_char}\")\n",
    "c_space=0\n",
    "for x in string:\n",
    "    if x==\" \":\n",
    "        c_space+=1\n",
    "print(f\"Number of spaces in the string = {c_space}\")"
   ]
  },
  {
   "cell_type": "markdown",
   "id": "12d7f7ff",
   "metadata": {},
   "source": [
    "**Q3) Write a Python Program to remove punctuation from a given string (using loop).**"
   ]
  },
  {
   "cell_type": "code",
   "execution_count": 12,
   "id": "9102c53c",
   "metadata": {},
   "outputs": [
    {
     "name": "stdout",
     "output_type": "stream",
     "text": [
      "Enter the string: Hello!@();:World\n",
      "HelloWorld\n"
     ]
    }
   ],
   "source": [
    "string=input(\"Enter the string: \")\n",
    "string1=\"\"\n",
    "for x in string:\n",
    "    if x==',' or x=='.' or x=='!' or x=='@' or x=='(' or x==')' or x==':' or x==';':\n",
    "        continue\n",
    "    else:\n",
    "        string1+=x\n",
    "print(string1)"
   ]
  },
  {
   "cell_type": "markdown",
   "id": "9bae885e",
   "metadata": {},
   "source": [
    "**Q4) Write a Python Program to take a mxn matrix input from user and stored in nested list.**"
   ]
  },
  {
   "cell_type": "code",
   "execution_count": 2,
   "id": "c08c9bff",
   "metadata": {},
   "outputs": [
    {
     "name": "stdout",
     "output_type": "stream",
     "text": [
      "Enter the number of rows: 3\n",
      "Enter the number of columns: 3\n",
      "Enter the matrix values: \n",
      "1\n",
      "2\n",
      "3\n",
      "4\n",
      "5\n",
      "6\n",
      "7\n",
      "8\n",
      "9\n",
      "1 2 3 \n",
      "4 5 6 \n",
      "7 8 9 \n"
     ]
    }
   ],
   "source": [
    "matrix=[]\n",
    "m=int(input(\"Enter the number of rows: \"))\n",
    "n=int(input(\"Enter the number of columns: \"))\n",
    "\n",
    "print(\"Enter the matrix values: \")\n",
    "for i in range(0, m):\n",
    "    row=[]\n",
    "    for j in range (0, n):\n",
    "        row.append(int(input()))\n",
    "    matrix.append(row)\n",
    "\n",
    "print(\"The matrix is as follows\")\n",
    "print(matrix)"
   ]
  },
  {
   "cell_type": "markdown",
   "id": "2b1573b7",
   "metadata": {},
   "source": [
    "**Q5) Write a Python Program to add, multiply and transpose two matrices given by user.**"
   ]
  },
  {
   "cell_type": "code",
   "execution_count": 40,
   "id": "d4fadb11",
   "metadata": {},
   "outputs": [
    {
     "name": "stdout",
     "output_type": "stream",
     "text": [
      "Enter the number of rows: 2\n",
      "Enter the number of columns: 2\n",
      "Enter the matrix values: \n",
      "1\n",
      "2\n",
      "3\n",
      "4\n",
      "Enter the number of rows: 2\n",
      "Enter the number of columns: 2\n",
      "Enter the matrix values: \n",
      "1\n",
      "2\n",
      "3\n",
      "4\n",
      "The matrix is as follows\n",
      "Matrix 1:\n",
      "[1, 2]\n",
      "[3, 4]\n",
      "Matrix 0:\n",
      "[1, 2]\n",
      "[3, 4]\n",
      "Sum of the 2 matrices =  [2, 4, 6, 8]\n",
      "\n",
      "The Transpose of the matrix is as follows\n",
      "[[1, 3], [2, 4]]\n",
      "\n",
      "Multiplication of the 2 matrices:\n",
      "[11, 125]\n",
      "[16, 180]\n"
     ]
    }
   ],
   "source": [
    "from pprint import pprint\n",
    "matrix_collection=[]\n",
    "for k in range(2):\n",
    "    matrix=[]\n",
    "    m=int(input(\"Enter the number of rows: \"))\n",
    "    n=int(input(\"Enter the number of columns: \"))\n",
    "\n",
    "    print(\"Enter the matrix values: \")\n",
    "    for i in range(0, m):\n",
    "        row=[]\n",
    "        for j in range (0, n):\n",
    "            row.append(int(input()))\n",
    "        matrix.append(row)\n",
    "    matrix_collection.append(matrix)\n",
    "\n",
    "print(\"The matrix is as follows\")\n",
    "z=1\n",
    "for x in matrix_collection:\n",
    "    print(f\"Matrix {len(matrix_collection)-z}:\")\n",
    "    for y in matrix_collection[0]:\n",
    "        pprint(y)\n",
    "    z-=1\n",
    "\n",
    "def add_matrix(matrix1, matrix2):\n",
    "    sum_matrix=[]\n",
    "    m=len(matrix1)\n",
    "    n=len(matrix1[0])\n",
    "    if len(matrix1)==len(matrix2) and len(matrix1[0])==len(matrix2[0]):\n",
    "        for i in range(0,m):\n",
    "            for j in range(0,n):\n",
    "                sum_matrix.append(matrix1[i][j]+matrix2[i][j])\n",
    "        print(\"\\nSum of the 2 matrices = \", sum_matrix)\n",
    "    else:\n",
    "        print(\"\\nError. The order of the matrices is not same.\")\n",
    "add_matrix(matrix_collection[0], matrix_collection[1])\n",
    "\n",
    "def transpose(matrix):\n",
    "    print(\"\\nThe Transpose of the matrix is as follows\")\n",
    "    for i in range(0, m):\n",
    "        for j in range(0, n):\n",
    "            if i<j:\n",
    "                temp=matrix[i][j]\n",
    "                matrix[i][j]=matrix[j][i]\n",
    "                matrix[j][i]=temp\n",
    "    print(matrix)\n",
    "transpose(matrix_collection[0])\n",
    "\n",
    "def multiply_matrix(matrix1, matrix2):\n",
    "    print(\"\\nMultiplication of the 2 matrices:\")\n",
    "    result=matrix1\n",
    "    for i in range(0, len(matrix1)):\n",
    "        for j in range(0, len(matrix2[0])):\n",
    "            for k in range(0, len(matrix2)):\n",
    "                result[i][j]+=matrix1[i][k] * matrix2[k][j]\n",
    "    for r in result:\n",
    "        print(r)\n",
    "multiply_matrix(matrix_collection[0], matrix_collection[1])"
   ]
  },
  {
   "cell_type": "markdown",
   "id": "766170d4",
   "metadata": {},
   "source": [
    " "
   ]
  }
 ],
 "metadata": {
  "kernelspec": {
   "display_name": "Python 3",
   "language": "python",
   "name": "python3"
  },
  "language_info": {
   "codemirror_mode": {
    "name": "ipython",
    "version": 3
   },
   "file_extension": ".py",
   "mimetype": "text/x-python",
   "name": "python",
   "nbconvert_exporter": "python",
   "pygments_lexer": "ipython3",
   "version": "3.8.8"
  }
 },
 "nbformat": 4,
 "nbformat_minor": 5
}
