{
 "cells": [
  {
   "cell_type": "markdown",
   "id": "6d5b0bdb",
   "metadata": {},
   "source": [
    "**Q1) What are the two values of the Boolean data type? How do you write them?**"
   ]
  },
  {
   "cell_type": "markdown",
   "id": "85f0f523",
   "metadata": {},
   "source": [
    "`True` for true and `False` for false."
   ]
  },
  {
   "cell_type": "markdown",
   "id": "b6ae1993",
   "metadata": {},
   "source": [
    "**Q2) What are the three Boolean operators?**"
   ]
  },
  {
   "cell_type": "markdown",
   "id": "48090c18",
   "metadata": {},
   "source": [
    "The 3 boolean operators are as follows:\n",
    "\n",
    "* `and`\n",
    "* `or`\n",
    "* `not`"
   ]
  },
  {
   "cell_type": "markdown",
   "id": "28715231",
   "metadata": {},
   "source": [
    "**Q3) Write out the truth tables of each Boolean operator (that is, every possible combination of Boolean values for the operator and what they evaluate to).**"
   ]
  },
  {
   "cell_type": "markdown",
   "id": "04fe6144",
   "metadata": {},
   "source": [
    "For `and` operator:\n",
    "\n",
    "    A | B | X(result)\n",
    "      |   |\n",
    "    0 | 0 | 0\n",
    "    0 | 1 | 0\n",
    "    1 | 0 | 0\n",
    "    1 | 1 | 1\n",
    "    \n",
    "For `or` operator:\n",
    "\n",
    "    A | B | X(result)\n",
    "      |   |\n",
    "    0 | 0 | 0\n",
    "    0 | 1 | 1\n",
    "    1 | 0 | 1\n",
    "    1 | 1 | 1\n",
    "    \n",
    "For `not` operator:\n",
    "\n",
    "    A | X(result)\n",
    "      |\n",
    "    0 | 1\n",
    "    1 | 0"
   ]
  },
  {
   "cell_type": "markdown",
   "id": "e3a4c83c",
   "metadata": {},
   "source": [
    "**Q4) What do the following expressions evaluate to?**\n",
    "\n",
    "(5 > 4) and (3 == 5) --> `False`\n",
    "\n",
    "not (5 > 4) --> `False`\n",
    "\n",
    "(5 > 4) or (3 == 5) --> `True`\n",
    "\n",
    "not ((5 > 4) or (3 == 5)) --> `False`\n",
    "\n",
    "(True and True) and (True == False) --> `False`\n",
    "\n",
    "(not False) or (not True) --> `True`"
   ]
  },
  {
   "cell_type": "markdown",
   "id": "d2e28c67",
   "metadata": {},
   "source": [
    "**Q5) What are the six comparison operators?**\n",
    "\n",
    "The six comparison operators are as follows:\n",
    "\n",
    "1) < (Less than)\n",
    "\n",
    "2) > (Greater than)\n",
    "\n",
    "3) == (Equal to)\n",
    "\n",
    "4) <= (Less than or Equal to)\n",
    "\n",
    "5) >= (Greater than or Equal to)\n",
    "\n",
    "6) != (Not Equal to)"
   ]
  },
  {
   "cell_type": "markdown",
   "id": "ce03b556",
   "metadata": {},
   "source": [
    "**Q6) What is the difference between the equal to operator and the assignment operator?**\n",
    "\n",
    "The assignment operator(=) assigns a new value to a variable be it of any data-type whereas the equal to(==) operator checks if the data stored in the two values on either sides of the operator is same or not, given that the data-type of the both the variables is the same."
   ]
  },
  {
   "cell_type": "markdown",
   "id": "40571f0e",
   "metadata": {},
   "source": [
    "**Q7) Explain what a condition is and where you would use one.**\n",
    "\n",
    "A condition is used where a particular piece of code has to be executed only when a given condition is true or a particular need has been satisfied.\n",
    "\n",
    "Eg: \n",
    "if (age>=18):\n",
    "    print(\"You can vote.\")\n",
    "else:\n",
    "    print(\"You cannot vote.\")"
   ]
  }
 ],
 "metadata": {
  "kernelspec": {
   "display_name": "Python 3",
   "language": "python",
   "name": "python3"
  },
  "language_info": {
   "codemirror_mode": {
    "name": "ipython",
    "version": 3
   },
   "file_extension": ".py",
   "mimetype": "text/x-python",
   "name": "python",
   "nbconvert_exporter": "python",
   "pygments_lexer": "ipython3",
   "version": "3.8.8"
  }
 },
 "nbformat": 4,
 "nbformat_minor": 5
}
