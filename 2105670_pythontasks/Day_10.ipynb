{
 "cells": [
  {
   "cell_type": "markdown",
   "id": "3bff5325",
   "metadata": {},
   "source": [
    "**1) Python Program to Check Palindrome Number.**"
   ]
  },
  {
   "cell_type": "code",
   "execution_count": 7,
   "id": "fb21479b",
   "metadata": {},
   "outputs": [
    {
     "name": "stdout",
     "output_type": "stream",
     "text": [
      "Enter the string: 1232\n",
      "The number is not a palindrome.\n"
     ]
    }
   ],
   "source": [
    "x=int(input(\"Enter the string: \"))\n",
    "def reverse(s):\n",
    "    str=\"\"\n",
    "    for i in s:\n",
    "        str=i+str\n",
    "    return str\n",
    "string=str(x)\n",
    "string2=reverse(string)\n",
    "if (string2==string):\n",
    "    print(\"The number is a palindrome.\")\n",
    "else:\n",
    "    print(\"The number is not a palindrome.\")"
   ]
  },
  {
   "cell_type": "markdown",
   "id": "33965e80",
   "metadata": {},
   "source": [
    "**2) Python Program to Print all multiples of 3 and 5 in an Interval.**"
   ]
  },
  {
   "cell_type": "code",
   "execution_count": 11,
   "id": "166bdb83",
   "metadata": {},
   "outputs": [
    {
     "name": "stdout",
     "output_type": "stream",
     "text": [
      "Enter the lower limit: 3\n",
      "Enter the upper limit: 11\n",
      "Multiples of three(3): [3, 6, 9]\n",
      "Multiples of five(5): [5, 10]\n"
     ]
    }
   ],
   "source": [
    "from pprint import pprint\n",
    "llimit=int(input(\"Enter the lower limit: \"))\n",
    "ulimit=int(input(\"Enter the upper limit: \"))\n",
    "three_div = []\n",
    "five_div = []\n",
    "for i in range(llimit, ulimit):\n",
    "    if (i%3==0):\n",
    "        three_div.append(i)\n",
    "    if (i%5==0):\n",
    "        five_div.append(i)\n",
    "print(\"Multiples of three(3): \", end=\"\")\n",
    "pprint(three_div)\n",
    "print(\"Multiples of five(5): \", end=\"\")\n",
    "pprint(five_div)"
   ]
  },
  {
   "cell_type": "markdown",
   "id": "be1c1e6d",
   "metadata": {},
   "source": [
    "**Q3) Python Program to Find the Factorial of a Number:**"
   ]
  },
  {
   "cell_type": "code",
   "execution_count": 12,
   "id": "eddd4f1f",
   "metadata": {},
   "outputs": [
    {
     "name": "stdout",
     "output_type": "stream",
     "text": [
      "Enter the number: 5\n",
      "Factorial of 5 =  120\n"
     ]
    }
   ],
   "source": [
    "x=int(input(\"Enter the number: \"))\n",
    "fact=1\n",
    "for i in range(1, x+1):\n",
    "    fact*=i\n",
    "print(f\"Factorial of {x} = \", fact)"
   ]
  },
  {
   "cell_type": "markdown",
   "id": "873e5bc7",
   "metadata": {},
   "source": [
    "**Q4) Python Program to Print the Fibonacci sequence:**"
   ]
  },
  {
   "cell_type": "code",
   "execution_count": 30,
   "id": "725bbc0a",
   "metadata": {},
   "outputs": [
    {
     "name": "stdout",
     "output_type": "stream",
     "text": [
      "Enter the range: 55\n",
      "1 1 2 3 5 8 13 21 34 \n",
      "This is the Fibonacci Series\n"
     ]
    }
   ],
   "source": [
    "range=int(input(\"Enter the range: \"))\n",
    "n1=1\n",
    "n2=1\n",
    "print(n1, end = \" \")\n",
    "print(n2, end = \" \")\n",
    "newval=0\n",
    "while True:\n",
    "    newval=n1+n2\n",
    "    n1=n2\n",
    "    n2=newval\n",
    "    if (newval<range):\n",
    "        print(newval, end = \" \")\n",
    "    else:\n",
    "        break\n",
    "    \n",
    "print(\"\\nThis is the Fibonacci Series\")"
   ]
  },
  {
   "cell_type": "markdown",
   "id": "01bed9da",
   "metadata": {},
   "source": [
    "**Q5) Python Program to Check Armstrong Number:**"
   ]
  },
  {
   "cell_type": "code",
   "execution_count": 16,
   "id": "5183e9f7",
   "metadata": {},
   "outputs": [
    {
     "name": "stdout",
     "output_type": "stream",
     "text": [
      "Enter the number: 153\n",
      "The number is an Armstrong number.\n"
     ]
    }
   ],
   "source": [
    "x=int(input(\"Enter the number: \"))\n",
    "original = x\n",
    "sum1=0\n",
    "while(x!=0):\n",
    "    n=x%10\n",
    "    sum1+=(n*n*n)\n",
    "    x=x//10\n",
    "if (original==sum1):\n",
    "    print(\"The number is an Armstrong number.\")\n",
    "else:\n",
    "    print(\"The number is not an Armstrong number.\")"
   ]
  }
 ],
 "metadata": {
  "kernelspec": {
   "display_name": "Python 3",
   "language": "python",
   "name": "python3"
  },
  "language_info": {
   "codemirror_mode": {
    "name": "ipython",
    "version": 3
   },
   "file_extension": ".py",
   "mimetype": "text/x-python",
   "name": "python",
   "nbconvert_exporter": "python",
   "pygments_lexer": "ipython3",
   "version": "3.8.8"
  }
 },
 "nbformat": 4,
 "nbformat_minor": 5
}
