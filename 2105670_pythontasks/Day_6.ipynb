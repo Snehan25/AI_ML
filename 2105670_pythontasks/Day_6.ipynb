{
 "cells": [
  {
   "cell_type": "code",
   "execution_count": 1,
   "id": "d4ce706a",
   "metadata": {},
   "outputs": [],
   "source": [
    "# Create at list 5 objects using list, dictionary, it will be good if you store realistic data\n",
    "student = {\n",
    "    \"name\": \"John Smith\",\n",
    "    \"age\": 20,\n",
    "    \"major\": \"Computer Science\",\n",
    "    \"courses\": [\"Programming\", \"Data Structures\", \"Database Management\"],\n",
    "    \"grades\": [85, 92, 78]\n",
    "}\n",
    "book = {\n",
    "    \"title\": \"The Great Gatsby\",\n",
    "    \"author\": \"F. Scott Fitzgerald\",\n",
    "    \"publication_year\": 1925,\n",
    "    \"genres\": [\"Fiction\", \"Classic\", \"Literary\"],\n",
    "    \"rating\": 4.2\n",
    "}\n",
    "restaurant = {\n",
    "    \"name\": \"La Trattoria\",\n",
    "    \"cuisine\": \"Italian\",\n",
    "    \"location\": \"123 Main Street\",\n",
    "    \"menu\": [\"Spaghetti Carbonara\", \"Margherita Pizza\", \"Tiramisu\"],\n",
    "    \"reviews\": [\n",
    "        {\"user\": \"JohnDoe\", \"rating\": 4.5, \"comment\": \"Delicious food!\"},\n",
    "        {\"user\": \"JaneSmith\", \"rating\": 3.8, \"comment\": \"Good service but prices are high.\"}\n",
    "    ]\n",
    "}\n",
    "movie = {\n",
    "    \"title\": \"Inception\",\n",
    "    \"director\": \"Christopher Nolan\",\n",
    "    \"release_year\": 2010,\n",
    "    \"genres\": [\"Sci-Fi\", \"Action\", \"Thriller\"],\n",
    "    \"actors\": [\"Leonardo DiCaprio\", \"Joseph Gordon-Levitt\", \"Ellen Page\"],\n",
    "    \"rating\": 8.8\n",
    "}\n",
    "car = {\n",
    "    \"make\": \"Toyota\",\n",
    "    \"model\": \"Camry\",\n",
    "    \"year\": 2022,\n",
    "    \"color\": \"Silver\",\n",
    "    \"features\": [\"Bluetooth connectivity\", \"Backup camera\", \"Cruise control\"],\n",
    "    \"price\": 25000\n",
    "}"
   ]
  },
  {
   "cell_type": "markdown",
   "id": "a1f3198b",
   "metadata": {},
   "source": [
    "**Q3) What is duck typing in python, what are Dunder or special methods?**\n",
    "\n",
    "Python is a Duck typing language which means that the data type of any variable is less important than its methods and attributes. It basically suggests that the data type of the variable can change according to its behaviour as long as the code is sustainable.\n",
    "\n",
    "Dunder Methods or Magic Methods are methods which allow instances of a data-type or class to interact with the built-in functions and operators of the language. Since these functions are not involked directly by the programmer, these functions are also referred to as 'Magic Methods'."
   ]
  },
  {
   "cell_type": "markdown",
   "id": "e76e2610",
   "metadata": {},
   "source": [
    "**Q4) What are operators? How many types of operators are there in python?**"
   ]
  },
  {
   "cell_type": "markdown",
   "id": "496baeb9",
   "metadata": {},
   "source": [
    "Operators are symbols or special keywords which are used to perform certain tasks to produce a result. A few types of operators are as follows:\n",
    "\n",
    "* Arithmetic operators\n",
    "* Assignment operators\n",
    "* Comparison operators\n",
    "* Logical operators\n",
    "* Identity operators\n",
    "* Membership operators\n",
    "* Bitwise operators"
   ]
  }
 ],
 "metadata": {
  "kernelspec": {
   "display_name": "Python 3",
   "language": "python",
   "name": "python3"
  },
  "language_info": {
   "codemirror_mode": {
    "name": "ipython",
    "version": 3
   },
   "file_extension": ".py",
   "mimetype": "text/x-python",
   "name": "python",
   "nbconvert_exporter": "python",
   "pygments_lexer": "ipython3",
   "version": "3.8.8"
  }
 },
 "nbformat": 4,
 "nbformat_minor": 5
}
